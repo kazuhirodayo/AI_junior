{
 "cells": [
  {
   "cell_type": "code",
   "execution_count": 128,
   "id": "5144eaaa",
   "metadata": {
    "ExecuteTime": {
     "end_time": "2021-11-27T02:04:11.935759Z",
     "start_time": "2021-11-27T02:04:11.895864Z"
    }
   },
   "outputs": [
    {
     "data": {
      "text/html": [
       "<div>\n",
       "<style scoped>\n",
       "    .dataframe tbody tr th:only-of-type {\n",
       "        vertical-align: middle;\n",
       "    }\n",
       "\n",
       "    .dataframe tbody tr th {\n",
       "        vertical-align: top;\n",
       "    }\n",
       "\n",
       "    .dataframe thead th {\n",
       "        text-align: right;\n",
       "    }\n",
       "</style>\n",
       "<table border=\"1\" class=\"dataframe\">\n",
       "  <thead>\n",
       "    <tr style=\"text-align: right;\">\n",
       "      <th></th>\n",
       "      <th>h26</th>\n",
       "      <th>h27</th>\n",
       "      <th>h28</th>\n",
       "      <th>h29</th>\n",
       "      <th>h30</th>\n",
       "      <th>r1</th>\n",
       "    </tr>\n",
       "  </thead>\n",
       "  <tbody>\n",
       "    <tr>\n",
       "      <th>0</th>\n",
       "      <td>NaN</td>\n",
       "      <td>NaN</td>\n",
       "      <td>NaN</td>\n",
       "      <td>75.0</td>\n",
       "      <td>NaN</td>\n",
       "      <td>69.3</td>\n",
       "    </tr>\n",
       "    <tr>\n",
       "      <th>1</th>\n",
       "      <td>59.5</td>\n",
       "      <td>NaN</td>\n",
       "      <td>47.5</td>\n",
       "      <td>NaN</td>\n",
       "      <td>NaN</td>\n",
       "      <td>NaN</td>\n",
       "    </tr>\n",
       "    <tr>\n",
       "      <th>2</th>\n",
       "      <td>102.8</td>\n",
       "      <td>87.4</td>\n",
       "      <td>87.1</td>\n",
       "      <td>NaN</td>\n",
       "      <td>NaN</td>\n",
       "      <td>NaN</td>\n",
       "    </tr>\n",
       "    <tr>\n",
       "      <th>3</th>\n",
       "      <td>57.9</td>\n",
       "      <td>NaN</td>\n",
       "      <td>NaN</td>\n",
       "      <td>NaN</td>\n",
       "      <td>67.9</td>\n",
       "      <td>61.4</td>\n",
       "    </tr>\n",
       "    <tr>\n",
       "      <th>4</th>\n",
       "      <td>89.7</td>\n",
       "      <td>NaN</td>\n",
       "      <td>NaN</td>\n",
       "      <td>NaN</td>\n",
       "      <td>NaN</td>\n",
       "      <td>NaN</td>\n",
       "    </tr>\n",
       "    <tr>\n",
       "      <th>...</th>\n",
       "      <td>...</td>\n",
       "      <td>...</td>\n",
       "      <td>...</td>\n",
       "      <td>...</td>\n",
       "      <td>...</td>\n",
       "      <td>...</td>\n",
       "    </tr>\n",
       "    <tr>\n",
       "      <th>4397</th>\n",
       "      <td>97.2</td>\n",
       "      <td>NaN</td>\n",
       "      <td>NaN</td>\n",
       "      <td>NaN</td>\n",
       "      <td>NaN</td>\n",
       "      <td>NaN</td>\n",
       "    </tr>\n",
       "    <tr>\n",
       "      <th>4398</th>\n",
       "      <td>67.3</td>\n",
       "      <td>50.7</td>\n",
       "      <td>67.6</td>\n",
       "      <td>63.3</td>\n",
       "      <td>49.2</td>\n",
       "      <td>NaN</td>\n",
       "    </tr>\n",
       "    <tr>\n",
       "      <th>4399</th>\n",
       "      <td>33.0</td>\n",
       "      <td>43.4</td>\n",
       "      <td>43.2</td>\n",
       "      <td>42.7</td>\n",
       "      <td>NaN</td>\n",
       "      <td>NaN</td>\n",
       "    </tr>\n",
       "    <tr>\n",
       "      <th>4400</th>\n",
       "      <td>60.7</td>\n",
       "      <td>61.8</td>\n",
       "      <td>64.6</td>\n",
       "      <td>65.1</td>\n",
       "      <td>55.9</td>\n",
       "      <td>60.8</td>\n",
       "    </tr>\n",
       "    <tr>\n",
       "      <th>4401</th>\n",
       "      <td>NaN</td>\n",
       "      <td>95.7</td>\n",
       "      <td>NaN</td>\n",
       "      <td>NaN</td>\n",
       "      <td>101.8</td>\n",
       "      <td>NaN</td>\n",
       "    </tr>\n",
       "  </tbody>\n",
       "</table>\n",
       "<p>4402 rows × 6 columns</p>\n",
       "</div>"
      ],
      "text/plain": [
       "        h26   h27   h28   h29    h30    r1\n",
       "0       NaN   NaN   NaN  75.0    NaN  69.3\n",
       "1      59.5   NaN  47.5   NaN    NaN   NaN\n",
       "2     102.8  87.4  87.1   NaN    NaN   NaN\n",
       "3      57.9   NaN   NaN   NaN   67.9  61.4\n",
       "4      89.7   NaN   NaN   NaN    NaN   NaN\n",
       "...     ...   ...   ...   ...    ...   ...\n",
       "4397   97.2   NaN   NaN   NaN    NaN   NaN\n",
       "4398   67.3  50.7  67.6  63.3   49.2   NaN\n",
       "4399   33.0  43.4  43.2  42.7    NaN   NaN\n",
       "4400   60.7  61.8  64.6  65.1   55.9  60.8\n",
       "4401    NaN  95.7   NaN   NaN  101.8   NaN\n",
       "\n",
       "[4402 rows x 6 columns]"
      ]
     },
     "execution_count": 128,
     "metadata": {},
     "output_type": "execute_result"
    }
   ],
   "source": [
    "import pandas as pd\n",
    "import numpy as np\n",
    "import matplotlib.pyplot as plt\n",
    "import os \n",
    "\n",
    "os.chdir(\"C:/Users/admin\")\n",
    "df=pd.read_csv(\"gfr.data.revise.csv\")\n",
    "df"
   ]
  },
  {
   "cell_type": "code",
   "execution_count": 31,
   "id": "8339e026",
   "metadata": {
    "ExecuteTime": {
     "end_time": "2021-11-26T17:17:29.158716Z",
     "start_time": "2021-11-26T17:17:29.133752Z"
    }
   },
   "outputs": [
    {
     "data": {
      "text/html": [
       "<div>\n",
       "<style scoped>\n",
       "    .dataframe tbody tr th:only-of-type {\n",
       "        vertical-align: middle;\n",
       "    }\n",
       "\n",
       "    .dataframe tbody tr th {\n",
       "        vertical-align: top;\n",
       "    }\n",
       "\n",
       "    .dataframe thead th {\n",
       "        text-align: right;\n",
       "    }\n",
       "</style>\n",
       "<table border=\"1\" class=\"dataframe\">\n",
       "  <thead>\n",
       "    <tr style=\"text-align: right;\">\n",
       "      <th></th>\n",
       "      <th>h26</th>\n",
       "      <th>h27</th>\n",
       "      <th>h28</th>\n",
       "      <th>h29</th>\n",
       "      <th>h30</th>\n",
       "      <th>r1</th>\n",
       "    </tr>\n",
       "  </thead>\n",
       "  <tbody>\n",
       "    <tr>\n",
       "      <th>0</th>\n",
       "      <td>True</td>\n",
       "      <td>True</td>\n",
       "      <td>True</td>\n",
       "      <td>False</td>\n",
       "      <td>True</td>\n",
       "      <td>False</td>\n",
       "    </tr>\n",
       "    <tr>\n",
       "      <th>1</th>\n",
       "      <td>False</td>\n",
       "      <td>True</td>\n",
       "      <td>False</td>\n",
       "      <td>True</td>\n",
       "      <td>True</td>\n",
       "      <td>True</td>\n",
       "    </tr>\n",
       "    <tr>\n",
       "      <th>2</th>\n",
       "      <td>False</td>\n",
       "      <td>False</td>\n",
       "      <td>False</td>\n",
       "      <td>True</td>\n",
       "      <td>True</td>\n",
       "      <td>True</td>\n",
       "    </tr>\n",
       "    <tr>\n",
       "      <th>3</th>\n",
       "      <td>False</td>\n",
       "      <td>True</td>\n",
       "      <td>True</td>\n",
       "      <td>True</td>\n",
       "      <td>False</td>\n",
       "      <td>False</td>\n",
       "    </tr>\n",
       "    <tr>\n",
       "      <th>4</th>\n",
       "      <td>False</td>\n",
       "      <td>True</td>\n",
       "      <td>True</td>\n",
       "      <td>True</td>\n",
       "      <td>True</td>\n",
       "      <td>True</td>\n",
       "    </tr>\n",
       "    <tr>\n",
       "      <th>...</th>\n",
       "      <td>...</td>\n",
       "      <td>...</td>\n",
       "      <td>...</td>\n",
       "      <td>...</td>\n",
       "      <td>...</td>\n",
       "      <td>...</td>\n",
       "    </tr>\n",
       "    <tr>\n",
       "      <th>4397</th>\n",
       "      <td>False</td>\n",
       "      <td>True</td>\n",
       "      <td>True</td>\n",
       "      <td>True</td>\n",
       "      <td>True</td>\n",
       "      <td>True</td>\n",
       "    </tr>\n",
       "    <tr>\n",
       "      <th>4398</th>\n",
       "      <td>False</td>\n",
       "      <td>False</td>\n",
       "      <td>False</td>\n",
       "      <td>False</td>\n",
       "      <td>False</td>\n",
       "      <td>True</td>\n",
       "    </tr>\n",
       "    <tr>\n",
       "      <th>4399</th>\n",
       "      <td>False</td>\n",
       "      <td>False</td>\n",
       "      <td>False</td>\n",
       "      <td>False</td>\n",
       "      <td>True</td>\n",
       "      <td>True</td>\n",
       "    </tr>\n",
       "    <tr>\n",
       "      <th>4400</th>\n",
       "      <td>False</td>\n",
       "      <td>False</td>\n",
       "      <td>False</td>\n",
       "      <td>False</td>\n",
       "      <td>False</td>\n",
       "      <td>False</td>\n",
       "    </tr>\n",
       "    <tr>\n",
       "      <th>4401</th>\n",
       "      <td>True</td>\n",
       "      <td>False</td>\n",
       "      <td>True</td>\n",
       "      <td>True</td>\n",
       "      <td>False</td>\n",
       "      <td>True</td>\n",
       "    </tr>\n",
       "  </tbody>\n",
       "</table>\n",
       "<p>4402 rows × 6 columns</p>\n",
       "</div>"
      ],
      "text/plain": [
       "        h26    h27    h28    h29    h30     r1\n",
       "0      True   True   True  False   True  False\n",
       "1     False   True  False   True   True   True\n",
       "2     False  False  False   True   True   True\n",
       "3     False   True   True   True  False  False\n",
       "4     False   True   True   True   True   True\n",
       "...     ...    ...    ...    ...    ...    ...\n",
       "4397  False   True   True   True   True   True\n",
       "4398  False  False  False  False  False   True\n",
       "4399  False  False  False  False   True   True\n",
       "4400  False  False  False  False  False  False\n",
       "4401   True  False   True   True  False   True\n",
       "\n",
       "[4402 rows x 6 columns]"
      ]
     },
     "execution_count": 31,
     "metadata": {},
     "output_type": "execute_result"
    }
   ],
   "source": [
    "df.isnull()"
   ]
  },
  {
   "cell_type": "code",
   "execution_count": 32,
   "id": "526cdc43",
   "metadata": {
    "ExecuteTime": {
     "end_time": "2021-11-26T17:17:29.888848Z",
     "start_time": "2021-11-26T17:17:29.874887Z"
    }
   },
   "outputs": [
    {
     "data": {
      "text/plain": [
       "(4402, 6)"
      ]
     },
     "execution_count": 32,
     "metadata": {},
     "output_type": "execute_result"
    }
   ],
   "source": [
    "df.shape"
   ]
  },
  {
   "cell_type": "code",
   "execution_count": 33,
   "id": "2caac3b4",
   "metadata": {
    "ExecuteTime": {
     "end_time": "2021-11-26T17:17:31.043379Z",
     "start_time": "2021-11-26T17:17:31.023409Z"
    }
   },
   "outputs": [
    {
     "data": {
      "text/plain": [
       "h26    2099\n",
       "h27    1970\n",
       "h28    2037\n",
       "h29    2111\n",
       "h30    2159\n",
       "r1     2338\n",
       "dtype: int64"
      ]
     },
     "execution_count": 33,
     "metadata": {},
     "output_type": "execute_result"
    }
   ],
   "source": [
    "df.isnull().sum()#欠損している要素数"
   ]
  },
  {
   "cell_type": "code",
   "execution_count": 129,
   "id": "e2753e27",
   "metadata": {
    "ExecuteTime": {
     "end_time": "2021-11-27T02:13:54.927879Z",
     "start_time": "2021-11-27T02:13:54.906904Z"
    }
   },
   "outputs": [
    {
     "name": "stdout",
     "output_type": "stream",
     "text": [
      "<class 'pandas.core.frame.DataFrame'>\n",
      "RangeIndex: 4402 entries, 0 to 4401\n",
      "Data columns (total 6 columns):\n",
      " #   Column  Non-Null Count  Dtype  \n",
      "---  ------  --------------  -----  \n",
      " 0   h26     2303 non-null   float64\n",
      " 1   h27     2432 non-null   float64\n",
      " 2   h28     2365 non-null   float64\n",
      " 3   h29     2291 non-null   float64\n",
      " 4   h30     2243 non-null   float64\n",
      " 5   r1      2064 non-null   float64\n",
      "dtypes: float64(6)\n",
      "memory usage: 206.5 KB\n"
     ]
    }
   ],
   "source": [
    "df.info()#データの要約を表示する（欠損値の確認）"
   ]
  },
  {
   "cell_type": "code",
   "execution_count": 130,
   "id": "c4bd2ba6",
   "metadata": {
    "ExecuteTime": {
     "end_time": "2021-11-27T02:14:01.427116Z",
     "start_time": "2021-11-27T02:14:01.396236Z"
    }
   },
   "outputs": [
    {
     "data": {
      "text/html": [
       "<div>\n",
       "<style scoped>\n",
       "    .dataframe tbody tr th:only-of-type {\n",
       "        vertical-align: middle;\n",
       "    }\n",
       "\n",
       "    .dataframe tbody tr th {\n",
       "        vertical-align: top;\n",
       "    }\n",
       "\n",
       "    .dataframe thead th {\n",
       "        text-align: right;\n",
       "    }\n",
       "</style>\n",
       "<table border=\"1\" class=\"dataframe\">\n",
       "  <thead>\n",
       "    <tr style=\"text-align: right;\">\n",
       "      <th></th>\n",
       "      <th>h26</th>\n",
       "      <th>h27</th>\n",
       "      <th>h28</th>\n",
       "      <th>h29</th>\n",
       "      <th>h30</th>\n",
       "      <th>r1</th>\n",
       "    </tr>\n",
       "  </thead>\n",
       "  <tbody>\n",
       "    <tr>\n",
       "      <th>2</th>\n",
       "      <td>102.8</td>\n",
       "      <td>87.4</td>\n",
       "      <td>87.1</td>\n",
       "      <td>NaN</td>\n",
       "      <td>NaN</td>\n",
       "      <td>NaN</td>\n",
       "    </tr>\n",
       "    <tr>\n",
       "      <th>3</th>\n",
       "      <td>57.9</td>\n",
       "      <td>NaN</td>\n",
       "      <td>NaN</td>\n",
       "      <td>NaN</td>\n",
       "      <td>67.9</td>\n",
       "      <td>61.4</td>\n",
       "    </tr>\n",
       "    <tr>\n",
       "      <th>5</th>\n",
       "      <td>63.1</td>\n",
       "      <td>60.7</td>\n",
       "      <td>64.1</td>\n",
       "      <td>57.6</td>\n",
       "      <td>61.3</td>\n",
       "      <td>NaN</td>\n",
       "    </tr>\n",
       "    <tr>\n",
       "      <th>6</th>\n",
       "      <td>52.8</td>\n",
       "      <td>57.9</td>\n",
       "      <td>51.7</td>\n",
       "      <td>50.8</td>\n",
       "      <td>50.6</td>\n",
       "      <td>51.0</td>\n",
       "    </tr>\n",
       "    <tr>\n",
       "      <th>7</th>\n",
       "      <td>NaN</td>\n",
       "      <td>87.1</td>\n",
       "      <td>85.4</td>\n",
       "      <td>NaN</td>\n",
       "      <td>84.5</td>\n",
       "      <td>NaN</td>\n",
       "    </tr>\n",
       "    <tr>\n",
       "      <th>...</th>\n",
       "      <td>...</td>\n",
       "      <td>...</td>\n",
       "      <td>...</td>\n",
       "      <td>...</td>\n",
       "      <td>...</td>\n",
       "      <td>...</td>\n",
       "    </tr>\n",
       "    <tr>\n",
       "      <th>4390</th>\n",
       "      <td>NaN</td>\n",
       "      <td>64.6</td>\n",
       "      <td>69.4</td>\n",
       "      <td>65.6</td>\n",
       "      <td>74.6</td>\n",
       "      <td>76.5</td>\n",
       "    </tr>\n",
       "    <tr>\n",
       "      <th>4394</th>\n",
       "      <td>70.9</td>\n",
       "      <td>76.6</td>\n",
       "      <td>78.5</td>\n",
       "      <td>79.4</td>\n",
       "      <td>73.6</td>\n",
       "      <td>74.3</td>\n",
       "    </tr>\n",
       "    <tr>\n",
       "      <th>4398</th>\n",
       "      <td>67.3</td>\n",
       "      <td>50.7</td>\n",
       "      <td>67.6</td>\n",
       "      <td>63.3</td>\n",
       "      <td>49.2</td>\n",
       "      <td>NaN</td>\n",
       "    </tr>\n",
       "    <tr>\n",
       "      <th>4399</th>\n",
       "      <td>33.0</td>\n",
       "      <td>43.4</td>\n",
       "      <td>43.2</td>\n",
       "      <td>42.7</td>\n",
       "      <td>NaN</td>\n",
       "      <td>NaN</td>\n",
       "    </tr>\n",
       "    <tr>\n",
       "      <th>4400</th>\n",
       "      <td>60.7</td>\n",
       "      <td>61.8</td>\n",
       "      <td>64.6</td>\n",
       "      <td>65.1</td>\n",
       "      <td>55.9</td>\n",
       "      <td>60.8</td>\n",
       "    </tr>\n",
       "  </tbody>\n",
       "</table>\n",
       "<p>2367 rows × 6 columns</p>\n",
       "</div>"
      ],
      "text/plain": [
       "        h26   h27   h28   h29   h30    r1\n",
       "2     102.8  87.4  87.1   NaN   NaN   NaN\n",
       "3      57.9   NaN   NaN   NaN  67.9  61.4\n",
       "5      63.1  60.7  64.1  57.6  61.3   NaN\n",
       "6      52.8  57.9  51.7  50.8  50.6  51.0\n",
       "7       NaN  87.1  85.4   NaN  84.5   NaN\n",
       "...     ...   ...   ...   ...   ...   ...\n",
       "4390    NaN  64.6  69.4  65.6  74.6  76.5\n",
       "4394   70.9  76.6  78.5  79.4  73.6  74.3\n",
       "4398   67.3  50.7  67.6  63.3  49.2   NaN\n",
       "4399   33.0  43.4  43.2  42.7   NaN   NaN\n",
       "4400   60.7  61.8  64.6  65.1  55.9  60.8\n",
       "\n",
       "[2367 rows x 6 columns]"
      ]
     },
     "execution_count": 130,
     "metadata": {},
     "output_type": "execute_result"
    }
   ],
   "source": [
    "df.dropna(how='any',thresh=3)#欠損値を含む行や列を削除する#threshは欠損していない要素数が３以上の行のみを保持"
   ]
  },
  {
   "cell_type": "code",
   "execution_count": 134,
   "id": "f281e8af",
   "metadata": {
    "ExecuteTime": {
     "end_time": "2021-11-27T02:16:45.448809Z",
     "start_time": "2021-11-27T02:16:45.438868Z"
    }
   },
   "outputs": [],
   "source": [
    "df = df.dropna(how='any',thresh=3)#欠損値を含む行や列を削除する#threshは欠損していない要素数が３以上の行のみを保持"
   ]
  },
  {
   "cell_type": "code",
   "execution_count": 135,
   "id": "026e5feb",
   "metadata": {
    "ExecuteTime": {
     "end_time": "2021-11-27T02:16:52.526063Z",
     "start_time": "2021-11-27T02:16:52.339511Z"
    }
   },
   "outputs": [
    {
     "data": {
      "text/html": [
       "<div>\n",
       "<style scoped>\n",
       "    .dataframe tbody tr th:only-of-type {\n",
       "        vertical-align: middle;\n",
       "    }\n",
       "\n",
       "    .dataframe tbody tr th {\n",
       "        vertical-align: top;\n",
       "    }\n",
       "\n",
       "    .dataframe thead th {\n",
       "        text-align: right;\n",
       "    }\n",
       "</style>\n",
       "<table border=\"1\" class=\"dataframe\">\n",
       "  <thead>\n",
       "    <tr style=\"text-align: right;\">\n",
       "      <th></th>\n",
       "      <th>h26</th>\n",
       "      <th>h27</th>\n",
       "      <th>h28</th>\n",
       "      <th>h29</th>\n",
       "      <th>h30</th>\n",
       "      <th>r1</th>\n",
       "    </tr>\n",
       "  </thead>\n",
       "  <tbody>\n",
       "    <tr>\n",
       "      <th>2</th>\n",
       "      <td>102.8</td>\n",
       "      <td>87.4</td>\n",
       "      <td>87.1</td>\n",
       "      <td>87.10</td>\n",
       "      <td>87.1</td>\n",
       "      <td>87.1</td>\n",
       "    </tr>\n",
       "    <tr>\n",
       "      <th>3</th>\n",
       "      <td>57.9</td>\n",
       "      <td>60.4</td>\n",
       "      <td>62.9</td>\n",
       "      <td>65.40</td>\n",
       "      <td>67.9</td>\n",
       "      <td>61.4</td>\n",
       "    </tr>\n",
       "    <tr>\n",
       "      <th>5</th>\n",
       "      <td>63.1</td>\n",
       "      <td>60.7</td>\n",
       "      <td>64.1</td>\n",
       "      <td>57.60</td>\n",
       "      <td>61.3</td>\n",
       "      <td>61.3</td>\n",
       "    </tr>\n",
       "    <tr>\n",
       "      <th>6</th>\n",
       "      <td>52.8</td>\n",
       "      <td>57.9</td>\n",
       "      <td>51.7</td>\n",
       "      <td>50.80</td>\n",
       "      <td>50.6</td>\n",
       "      <td>51.0</td>\n",
       "    </tr>\n",
       "    <tr>\n",
       "      <th>7</th>\n",
       "      <td>87.1</td>\n",
       "      <td>87.1</td>\n",
       "      <td>85.4</td>\n",
       "      <td>84.95</td>\n",
       "      <td>84.5</td>\n",
       "      <td>84.5</td>\n",
       "    </tr>\n",
       "    <tr>\n",
       "      <th>...</th>\n",
       "      <td>...</td>\n",
       "      <td>...</td>\n",
       "      <td>...</td>\n",
       "      <td>...</td>\n",
       "      <td>...</td>\n",
       "      <td>...</td>\n",
       "    </tr>\n",
       "    <tr>\n",
       "      <th>4390</th>\n",
       "      <td>64.6</td>\n",
       "      <td>64.6</td>\n",
       "      <td>69.4</td>\n",
       "      <td>65.60</td>\n",
       "      <td>74.6</td>\n",
       "      <td>76.5</td>\n",
       "    </tr>\n",
       "    <tr>\n",
       "      <th>4394</th>\n",
       "      <td>70.9</td>\n",
       "      <td>76.6</td>\n",
       "      <td>78.5</td>\n",
       "      <td>79.40</td>\n",
       "      <td>73.6</td>\n",
       "      <td>74.3</td>\n",
       "    </tr>\n",
       "    <tr>\n",
       "      <th>4398</th>\n",
       "      <td>67.3</td>\n",
       "      <td>50.7</td>\n",
       "      <td>67.6</td>\n",
       "      <td>63.30</td>\n",
       "      <td>49.2</td>\n",
       "      <td>49.2</td>\n",
       "    </tr>\n",
       "    <tr>\n",
       "      <th>4399</th>\n",
       "      <td>33.0</td>\n",
       "      <td>43.4</td>\n",
       "      <td>43.2</td>\n",
       "      <td>42.70</td>\n",
       "      <td>42.7</td>\n",
       "      <td>42.7</td>\n",
       "    </tr>\n",
       "    <tr>\n",
       "      <th>4400</th>\n",
       "      <td>60.7</td>\n",
       "      <td>61.8</td>\n",
       "      <td>64.6</td>\n",
       "      <td>65.10</td>\n",
       "      <td>55.9</td>\n",
       "      <td>60.8</td>\n",
       "    </tr>\n",
       "  </tbody>\n",
       "</table>\n",
       "<p>2367 rows × 6 columns</p>\n",
       "</div>"
      ],
      "text/plain": [
       "        h26   h27   h28    h29   h30    r1\n",
       "2     102.8  87.4  87.1  87.10  87.1  87.1\n",
       "3      57.9  60.4  62.9  65.40  67.9  61.4\n",
       "5      63.1  60.7  64.1  57.60  61.3  61.3\n",
       "6      52.8  57.9  51.7  50.80  50.6  51.0\n",
       "7      87.1  87.1  85.4  84.95  84.5  84.5\n",
       "...     ...   ...   ...    ...   ...   ...\n",
       "4390   64.6  64.6  69.4  65.60  74.6  76.5\n",
       "4394   70.9  76.6  78.5  79.40  73.6  74.3\n",
       "4398   67.3  50.7  67.6  63.30  49.2  49.2\n",
       "4399   33.0  43.4  43.2  42.70  42.7  42.7\n",
       "4400   60.7  61.8  64.6  65.10  55.9  60.8\n",
       "\n",
       "[2367 rows x 6 columns]"
      ]
     },
     "execution_count": 135,
     "metadata": {},
     "output_type": "execute_result"
    }
   ],
   "source": [
    "df.interpolate(axis=1,limit_direction=\"both\")# 列ごとに補間する"
   ]
  },
  {
   "cell_type": "code",
   "execution_count": 136,
   "id": "0ba3d7c4",
   "metadata": {
    "ExecuteTime": {
     "end_time": "2021-11-27T02:17:51.631462Z",
     "start_time": "2021-11-27T02:17:51.456129Z"
    }
   },
   "outputs": [],
   "source": [
    "df = df.interpolate(axis=1,limit_direction=\"both\")# 列ごとに補間する"
   ]
  },
  {
   "cell_type": "code",
   "execution_count": 137,
   "id": "1903c204",
   "metadata": {
    "ExecuteTime": {
     "end_time": "2021-11-27T02:17:53.038556Z",
     "start_time": "2021-11-27T02:17:53.025592Z"
    }
   },
   "outputs": [],
   "source": [
    "import numpy as np\n",
    "import matplotlib.pyplot as plt\n",
    "import pandas as pd"
   ]
  },
  {
   "cell_type": "code",
   "execution_count": 138,
   "id": "467b7f0f",
   "metadata": {
    "ExecuteTime": {
     "end_time": "2021-11-27T02:17:55.459379Z",
     "start_time": "2021-11-27T02:17:55.453902Z"
    }
   },
   "outputs": [],
   "source": [
    "from tslearn.clustering import KShape\n",
    "from tslearn.datasets import CachedDatasets\n",
    "from tslearn.preprocessing import TimeSeriesScalerMeanVariance"
   ]
  },
  {
   "cell_type": "code",
   "execution_count": 139,
   "id": "a578beff",
   "metadata": {
    "ExecuteTime": {
     "end_time": "2021-11-27T02:17:56.100779Z",
     "start_time": "2021-11-27T02:17:56.082828Z"
    }
   },
   "outputs": [],
   "source": [
    "df\n",
    "trainArr = []\n",
    "trainArr = df.values\n",
    "np.random.shuffle(trainArr)"
   ]
  },
  {
   "cell_type": "code",
   "execution_count": 140,
   "id": "68bb8855",
   "metadata": {
    "ExecuteTime": {
     "end_time": "2021-11-27T02:17:56.713940Z",
     "start_time": "2021-11-27T02:17:56.697983Z"
    }
   },
   "outputs": [
    {
     "name": "stdout",
     "output_type": "stream",
     "text": [
      "(2347, 6, 1)\n",
      "(100, 1)\n"
     ]
    }
   ],
   "source": [
    "df\n",
    "trainArr_X = []\n",
    "trainArr_y = []\n",
    "trainArr_X = trainArr[:2347, :6]\n",
    "trainArr_y = trainArr[:100, -1:]\n",
    "trainArr_X = trainArr_X.reshape([2347, 6 , 1])\n",
    "print(trainArr_X.shape)         # (2347,6,1)\n",
    "print(trainArr_y.shape)         # (100, 1)\n",
    "sz = trainArr_X.shape[1]"
   ]
  },
  {
   "cell_type": "code",
   "execution_count": 141,
   "id": "c3a1ea03",
   "metadata": {
    "ExecuteTime": {
     "end_time": "2021-11-27T02:17:58.718643Z",
     "start_time": "2021-11-27T02:17:58.499637Z"
    }
   },
   "outputs": [],
   "source": [
    "# For this method to operate properly, prior scaling is required\n",
    "trainArr_X = TimeSeriesScalerMeanVariance().fit_transform(trainArr_X)"
   ]
  },
  {
   "cell_type": "code",
   "execution_count": 142,
   "id": "1a11dcdc",
   "metadata": {
    "ExecuteTime": {
     "end_time": "2021-11-27T02:17:59.050721Z",
     "start_time": "2021-11-27T02:17:59.033767Z"
    }
   },
   "outputs": [
    {
     "data": {
      "text/plain": [
       "(2367, 6)"
      ]
     },
     "execution_count": 142,
     "metadata": {},
     "output_type": "execute_result"
    }
   ],
   "source": [
    "df.shape#欠損していない要素数が３以上の行のみを保持していることを確認"
   ]
  },
  {
   "cell_type": "code",
   "execution_count": 143,
   "id": "3c220bd7",
   "metadata": {
    "ExecuteTime": {
     "end_time": "2021-11-27T02:17:59.659812Z",
     "start_time": "2021-11-27T02:17:59.631888Z"
    }
   },
   "outputs": [
    {
     "data": {
      "text/html": [
       "<div>\n",
       "<style scoped>\n",
       "    .dataframe tbody tr th:only-of-type {\n",
       "        vertical-align: middle;\n",
       "    }\n",
       "\n",
       "    .dataframe tbody tr th {\n",
       "        vertical-align: top;\n",
       "    }\n",
       "\n",
       "    .dataframe thead th {\n",
       "        text-align: right;\n",
       "    }\n",
       "</style>\n",
       "<table border=\"1\" class=\"dataframe\">\n",
       "  <thead>\n",
       "    <tr style=\"text-align: right;\">\n",
       "      <th></th>\n",
       "      <th>h26</th>\n",
       "      <th>h27</th>\n",
       "      <th>h28</th>\n",
       "      <th>h29</th>\n",
       "      <th>h30</th>\n",
       "      <th>r1</th>\n",
       "    </tr>\n",
       "  </thead>\n",
       "  <tbody>\n",
       "    <tr>\n",
       "      <th>2</th>\n",
       "      <td>False</td>\n",
       "      <td>False</td>\n",
       "      <td>False</td>\n",
       "      <td>False</td>\n",
       "      <td>False</td>\n",
       "      <td>False</td>\n",
       "    </tr>\n",
       "    <tr>\n",
       "      <th>3</th>\n",
       "      <td>False</td>\n",
       "      <td>False</td>\n",
       "      <td>False</td>\n",
       "      <td>False</td>\n",
       "      <td>False</td>\n",
       "      <td>False</td>\n",
       "    </tr>\n",
       "    <tr>\n",
       "      <th>5</th>\n",
       "      <td>False</td>\n",
       "      <td>False</td>\n",
       "      <td>False</td>\n",
       "      <td>False</td>\n",
       "      <td>False</td>\n",
       "      <td>False</td>\n",
       "    </tr>\n",
       "    <tr>\n",
       "      <th>6</th>\n",
       "      <td>False</td>\n",
       "      <td>False</td>\n",
       "      <td>False</td>\n",
       "      <td>False</td>\n",
       "      <td>False</td>\n",
       "      <td>False</td>\n",
       "    </tr>\n",
       "    <tr>\n",
       "      <th>7</th>\n",
       "      <td>False</td>\n",
       "      <td>False</td>\n",
       "      <td>False</td>\n",
       "      <td>False</td>\n",
       "      <td>False</td>\n",
       "      <td>False</td>\n",
       "    </tr>\n",
       "    <tr>\n",
       "      <th>...</th>\n",
       "      <td>...</td>\n",
       "      <td>...</td>\n",
       "      <td>...</td>\n",
       "      <td>...</td>\n",
       "      <td>...</td>\n",
       "      <td>...</td>\n",
       "    </tr>\n",
       "    <tr>\n",
       "      <th>4390</th>\n",
       "      <td>False</td>\n",
       "      <td>False</td>\n",
       "      <td>False</td>\n",
       "      <td>False</td>\n",
       "      <td>False</td>\n",
       "      <td>False</td>\n",
       "    </tr>\n",
       "    <tr>\n",
       "      <th>4394</th>\n",
       "      <td>False</td>\n",
       "      <td>False</td>\n",
       "      <td>False</td>\n",
       "      <td>False</td>\n",
       "      <td>False</td>\n",
       "      <td>False</td>\n",
       "    </tr>\n",
       "    <tr>\n",
       "      <th>4398</th>\n",
       "      <td>False</td>\n",
       "      <td>False</td>\n",
       "      <td>False</td>\n",
       "      <td>False</td>\n",
       "      <td>False</td>\n",
       "      <td>False</td>\n",
       "    </tr>\n",
       "    <tr>\n",
       "      <th>4399</th>\n",
       "      <td>False</td>\n",
       "      <td>False</td>\n",
       "      <td>False</td>\n",
       "      <td>False</td>\n",
       "      <td>False</td>\n",
       "      <td>False</td>\n",
       "    </tr>\n",
       "    <tr>\n",
       "      <th>4400</th>\n",
       "      <td>False</td>\n",
       "      <td>False</td>\n",
       "      <td>False</td>\n",
       "      <td>False</td>\n",
       "      <td>False</td>\n",
       "      <td>False</td>\n",
       "    </tr>\n",
       "  </tbody>\n",
       "</table>\n",
       "<p>2367 rows × 6 columns</p>\n",
       "</div>"
      ],
      "text/plain": [
       "        h26    h27    h28    h29    h30     r1\n",
       "2     False  False  False  False  False  False\n",
       "3     False  False  False  False  False  False\n",
       "5     False  False  False  False  False  False\n",
       "6     False  False  False  False  False  False\n",
       "7     False  False  False  False  False  False\n",
       "...     ...    ...    ...    ...    ...    ...\n",
       "4390  False  False  False  False  False  False\n",
       "4394  False  False  False  False  False  False\n",
       "4398  False  False  False  False  False  False\n",
       "4399  False  False  False  False  False  False\n",
       "4400  False  False  False  False  False  False\n",
       "\n",
       "[2367 rows x 6 columns]"
      ]
     },
     "execution_count": 143,
     "metadata": {},
     "output_type": "execute_result"
    }
   ],
   "source": [
    "df.isnull()"
   ]
  },
  {
   "cell_type": "code",
   "execution_count": 144,
   "id": "46dc4beb",
   "metadata": {
    "ExecuteTime": {
     "end_time": "2021-11-27T02:18:01.699776Z",
     "start_time": "2021-11-27T02:18:01.687817Z"
    }
   },
   "outputs": [
    {
     "data": {
      "text/plain": [
       "h26    0\n",
       "h27    0\n",
       "h28    0\n",
       "h29    0\n",
       "h30    0\n",
       "r1     0\n",
       "dtype: int64"
      ]
     },
     "execution_count": 144,
     "metadata": {},
     "output_type": "execute_result"
    }
   ],
   "source": [
    "df.isnull().sum()#欠損している要素数"
   ]
  },
  {
   "cell_type": "code",
   "execution_count": 145,
   "id": "510d7714",
   "metadata": {
    "ExecuteTime": {
     "end_time": "2021-11-27T02:18:12.457589Z",
     "start_time": "2021-11-27T02:18:04.304707Z"
    }
   },
   "outputs": [
    {
     "name": "stdout",
     "output_type": "stream",
     "text": [
      "0.061 --> 0.054 --> 0.052 --> 0.086 --> \n"
     ]
    },
    {
     "data": {
      "image/png": "[encoded data removed]",
      "text/plain": [
       "<Figure size 720x720 with 5 Axes>"
      ]
     },
     "metadata": {
      "needs_background": "light"
     },
     "output_type": "display_data"
    }
   ],
   "source": [
    "seed = 0\n",
    "np.random.seed(seed)\n",
    "ks = KShape(n_clusters=5, verbose=True, random_state=seed)\n",
    "y_pred = ks.fit_predict(trainArr_X)\n",
    "\n",
    "plt.figure(figsize=(10, 10), tight_layout = True)\n",
    "for yi in range(5):\n",
    "    plt.subplot(5, 1, 1 + yi)\n",
    "\n",
    "    for xx in trainArr_X[y_pred == yi]:\n",
    "        plt.plot(xx.ravel(), \"b-\", alpha=.2)\n",
    "    plt.plot(ks.cluster_centers_[yi].ravel(), \"r-\")\n",
    "    plt.xlim(0, sz)\n",
    "    plt.ylim(-8, 8)\n",
    "    plt.title(\"Cluster %d\" % (yi + 1))\n",
    "\n",
    "plt.show()"
   ]
  },
  {
   "cell_type": "code",
   "execution_count": null,
   "id": "5c506034",
   "metadata": {},
   "outputs": [],
   "source": []
  }
 ],
 "metadata": {
  "kernelspec": {
   "display_name": "Python 3",
   "language": "python",
   "name": "python3"
  },
  "language_info": {
   "codemirror_mode": {
    "name": "ipython",
    "version": 3
   },
   "file_extension": ".py",
   "mimetype": "text/x-python",
   "name": "python",
   "nbconvert_exporter": "python",
   "pygments_lexer": "ipython3",
   "version": "3.8.8"
  },
  "varInspector": {
   "cols": {
    "lenName": 16,
    "lenType": 16,
    "lenVar": 40
   },
   "kernels_config": {
    "python": {
     "delete_cmd_postfix": "",
     "delete_cmd_prefix": "del ",
     "library": "var_list.py",
     "varRefreshCmd": "print(var_dic_list())"
    },
    "r": {
     "delete_cmd_postfix": ") ",
     "delete_cmd_prefix": "rm(",
     "library": "var_list.r",
     "varRefreshCmd": "cat(var_dic_list()) "
    }
   },
   "types_to_exclude": [
    "module",
    "function",
    "builtin_function_or_method",
    "instance",
    "_Feature"
   ],
   "window_display": false
  }
 },
 "nbformat": 4,
 "nbformat_minor": 5
}
